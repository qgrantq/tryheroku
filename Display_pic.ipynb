{
  "nbformat": 4,
  "nbformat_minor": 0,
  "metadata": {
    "colab": {
      "name": "Display-pic.ipynb",
      "provenance": [],
      "collapsed_sections": [],
      "mount_file_id": "10FpqsZGC90teax16zJvwTelN4Y59BAZ3",
      "authorship_tag": "ABX9TyMMr8kEwpKLN9MslEEB0Kyf",
      "include_colab_link": true
    },
    "kernelspec": {
      "name": "python3",
      "display_name": "Python 3"
    },
    "language_info": {
      "name": "python"
    },
    "gpuClass": "standard"
  },
  "cells": [
    {
      "cell_type": "markdown",
      "metadata": {
        "id": "view-in-github",
        "colab_type": "text"
      },
      "source": [
        "<a href=\"https://colab.research.google.com/github/qgrantq/tryheroku/blob/main/Display_pic.ipynb\" target=\"_parent\"><img src=\"https://colab.research.google.com/assets/colab-badge.svg\" alt=\"Open In Colab\"/></a>"
      ]
    },
    {
      "cell_type": "code",
      "source": [
        "#! pip install ipywidgets"
      ],
      "metadata": {
        "id": "MdQQ39BKO3JF"
      },
      "execution_count": null,
      "outputs": []
    },
    {
      "cell_type": "code",
      "source": [
        "import ipywidgets as widgets\n",
        "import io\n",
        "#from PIL import Image\n",
        "#print(widgets.__version__)"
      ],
      "metadata": {
        "id": "wILq7V3hPCdz"
      },
      "execution_count": 1,
      "outputs": []
    },
    {
      "cell_type": "code",
      "source": [
        "#from ipywidgets import FileUpload\n",
        "from IPython.display import display\n",
        "from IPython.display import Image\n"
      ],
      "metadata": {
        "id": "cagAzyPwqB_K"
      },
      "execution_count": 2,
      "outputs": []
    },
    {
      "cell_type": "code",
      "source": [
        "\n",
        "#img3 = Image(\"sample_data/abba.png\")\n",
        "img3 = Image(\"abba.png\")\n",
        "\n",
        "button = widgets.Button(description=\"Display picture\")\n",
        "output = widgets.Output()\n",
        "\n",
        "display(button, output)\n",
        "\n",
        "def on_button_clicked(b):\n",
        "    with output:\n",
        "        print(\"Picture uploaded without upload button...\")\n",
        "        display(img3)\n",
        "\n",
        "button.on_click(on_button_clicked)"
      ],
      "metadata": {
        "id": "KVHvhpzuGJaL"
      },
      "execution_count": null,
      "outputs": []
    }
  ]
}